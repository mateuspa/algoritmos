{
  "nbformat": 4,
  "nbformat_minor": 0,
  "metadata": {
    "colab": {
      "provenance": [],
      "authorship_tag": "ABX9TyMjsbzFuDjRw7TXIvdv6tV3",
      "include_colab_link": true
    },
    "kernelspec": {
      "name": "python3",
      "display_name": "Python 3"
    },
    "language_info": {
      "name": "python"
    }
  },
  "cells": [
    {
      "cell_type": "markdown",
      "metadata": {
        "id": "view-in-github",
        "colab_type": "text"
      },
      "source": [
        "<a href=\"https://colab.research.google.com/github/mateuspa/fatec/blob/main/Pr%C3%A1tica_aula_1.ipynb\" target=\"_parent\"><img src=\"https://colab.research.google.com/assets/colab-badge.svg\" alt=\"Open In Colab\"/></a>"
      ]
    },
    {
      "cell_type": "code",
      "execution_count": 15,
      "metadata": {
        "colab": {
          "base_uri": "https://localhost:8080/"
        },
        "id": "XIlZ21Fu34zD",
        "outputId": "d00e1ec6-bb3a-4eec-e10a-5faacdcc6ba5"
      },
      "outputs": [
        {
          "output_type": "stream",
          "name": "stdout",
          "text": [
            "Digite a nota 1: 90\n",
            "\n",
            "Quadrado: 8100.0\n"
          ]
        }
      ],
      "source": [
        "# Inicialização das Variáveis\n",
        "#nome = str(input(\"Digite o nome do aluno: \"))\n",
        "valor1 = float(input(\"Digite a valor 1: \"))\n",
        "\n",
        "# cálculos\n",
        "quadrado = valor1**2\n",
        "\n",
        "# interface\n",
        "print(f\"\")\n",
        "print(f\"Quadrado: {quadrado}\")"
      ]
    },
    {
      "cell_type": "code",
      "source": [],
      "metadata": {
        "id": "xmhHEp7w4wrs"
      },
      "execution_count": 3,
      "outputs": []
    }
  ]
}
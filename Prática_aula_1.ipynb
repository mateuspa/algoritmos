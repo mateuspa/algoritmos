{
  "nbformat": 4,
  "nbformat_minor": 0,
  "metadata": {
    "colab": {
      "provenance": [],
      "authorship_tag": "ABX9TyORnRsO4wGS507zkW2Te7S/",
      "include_colab_link": true
    },
    "kernelspec": {
      "name": "python3",
      "display_name": "Python 3"
    },
    "language_info": {
      "name": "python"
    }
  },
  "cells": [
    {
      "cell_type": "markdown",
      "metadata": {
        "id": "view-in-github",
        "colab_type": "text"
      },
      "source": [
        "<a href=\"https://colab.research.google.com/github/mateuspa/fatec/blob/main/Pr%C3%A1tica_aula_1.ipynb\" target=\"_parent\"><img src=\"https://colab.research.google.com/assets/colab-badge.svg\" alt=\"Open In Colab\"/></a>"
      ]
    },
    {
      "cell_type": "code",
      "execution_count": 23,
      "metadata": {
        "colab": {
          "base_uri": "https://localhost:8080/"
        },
        "id": "XIlZ21Fu34zD",
        "outputId": "09905e59-9cef-4789-d618-1c95b7891b09"
      },
      "outputs": [
        {
          "output_type": "stream",
          "name": "stdout",
          "text": [
            "Digite a valor 1: 10.123456789\n",
            "\n",
            "Valor: 10.123\n",
            "Quadrado: 102.484\n",
            "Valor é maior que 10\n"
          ]
        }
      ],
      "source": [
        "# Inicialização das Variáveis\n",
        "#nome = str(input(\"Digite o nome do aluno: \"))\n",
        "valor1 = float(input(\"Digite a valor 1: \"))\n",
        "\n",
        "# cálculos\n",
        "quadrado = valor1**2\n",
        "\n",
        "# interface\n",
        "print(f\"\")\n",
        "print(f\"Valor: {valor1:.3f}\")\n",
        "print(f\"Quadrado: {quadrado:.3f}\")\n",
        "if valor1<10:\n",
        "    print(f\"Valor é menor que 10\")\n",
        "else:\n",
        "    print(f\"Valor é maior que 10\")"
      ]
    },
    {
      "cell_type": "code",
      "source": [],
      "metadata": {
        "id": "xmhHEp7w4wrs"
      },
      "execution_count": null,
      "outputs": []
    }
  ]
}
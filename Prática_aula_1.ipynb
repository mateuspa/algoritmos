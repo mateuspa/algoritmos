{
  "nbformat": 4,
  "nbformat_minor": 0,
  "metadata": {
    "colab": {
      "provenance": [],
      "authorship_tag": "ABX9TyOwhPM/m95ZOw7ftPBSnMLV",
      "include_colab_link": true
    },
    "kernelspec": {
      "name": "python3",
      "display_name": "Python 3"
    },
    "language_info": {
      "name": "python"
    }
  },
  "cells": [
    {
      "cell_type": "markdown",
      "metadata": {
        "id": "view-in-github",
        "colab_type": "text"
      },
      "source": [
        "<a href=\"https://colab.research.google.com/github/mateuspa/fatec/blob/main/Pr%C3%A1tica_aula_1.ipynb\" target=\"_parent\"><img src=\"https://colab.research.google.com/assets/colab-badge.svg\" alt=\"Open In Colab\"/></a>"
      ]
    },
    {
      "cell_type": "code",
      "execution_count": 12,
      "metadata": {
        "colab": {
          "base_uri": "https://localhost:8080/"
        },
        "id": "XIlZ21Fu34zD",
        "outputId": "de65924c-4bdb-4dfc-b1c2-795151560684"
      },
      "outputs": [
        {
          "output_type": "stream",
          "name": "stdout",
          "text": [
            "Digite o nome do aluno: Mateus Prince Antunes\n",
            "Digite a nota 1: 10\n",
            "Digite a nota 2: 10\n",
            "\n",
            "Nome do aluno: Mateus Prince Antunes\n",
            "Nota 1: 10.0\n",
            "Nota 2: 10.0\n",
            "Média: 10.0\n"
          ]
        }
      ],
      "source": [
        "# Inicialização das Variáveis\n",
        "nome = str(input(\"Digite o nome do aluno: \"))\n",
        "nota1 = float(input(\"Digite a nota 1: \"))\n",
        "nota2 = float(input(\"Digite a nota 2: \"))\n",
        "media = float\n",
        "\n",
        "# cálculos\n",
        "media = (nota1 + nota2) / 2\n",
        "\n",
        "# interface\n",
        "print(f\"\")\n",
        "print(f\"Nome do aluno: {nome}\")\n",
        "print(f\"Nota 1: {nota1}\")\n",
        "print(f\"Nota 2: {nota2}\")\n",
        "print(f\"Média: {media}\")"
      ]
    },
    {
      "cell_type": "code",
      "source": [],
      "metadata": {
        "id": "xmhHEp7w4wrs"
      },
      "execution_count": 3,
      "outputs": []
    }
  ]
}
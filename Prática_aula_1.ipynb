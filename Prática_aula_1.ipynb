{
  "nbformat": 4,
  "nbformat_minor": 0,
  "metadata": {
    "colab": {
      "provenance": [],
      "authorship_tag": "ABX9TyMYWvuaTn5rQbT5HqGVFKW8",
      "include_colab_link": true
    },
    "kernelspec": {
      "name": "python3",
      "display_name": "Python 3"
    },
    "language_info": {
      "name": "python"
    }
  },
  "cells": [
    {
      "cell_type": "markdown",
      "metadata": {
        "id": "view-in-github",
        "colab_type": "text"
      },
      "source": [
        "<a href=\"https://colab.research.google.com/github/mateuspa/fatec/blob/main/Pr%C3%A1tica_aula_1.ipynb\" target=\"_parent\"><img src=\"https://colab.research.google.com/assets/colab-badge.svg\" alt=\"Open In Colab\"/></a>"
      ]
    },
    {
      "cell_type": "code",
      "execution_count": 1,
      "metadata": {
        "colab": {
          "base_uri": "https://localhost:8080/"
        },
        "id": "XIlZ21Fu34zD",
        "outputId": "af23d5c8-fe20-4484-ba2c-93369521ca61"
      },
      "outputs": [
        {
          "output_type": "stream",
          "name": "stdout",
          "text": [
            "Digite a valor 1: 3\n",
            "\n",
            "Quadrado: 9.0\n",
            "Cubo: 27.0\n"
          ]
        }
      ],
      "source": [
        "#Prática Aula 1 - Python\n",
        "\n",
        "# Inicialização das Variáveis\n",
        "#nome = str(input(\"Digite o nome do aluno: \"))\n",
        "valor1 = float(input(\"Digite a valor 1: \"))\n",
        "\n",
        "# cálculos\n",
        "quadrado = valor1**2\n",
        "cubo = valor1**3\n",
        "\n",
        "# interface\n",
        "print(f\"\")\n",
        "print(f\"Quadrado: {quadrado}\")\n",
        "print(f\"Cubo: {cubo}\")"
      ]
    },
    {
      "cell_type": "code",
      "source": [],
      "metadata": {
        "id": "xmhHEp7w4wrs"
      },
      "execution_count": null,
      "outputs": []
    }
  ]
}
{
  "nbformat": 4,
  "nbformat_minor": 0,
  "metadata": {
    "colab": {
      "provenance": [],
      "authorship_tag": "ABX9TyP9ZDtBb8yBkjesH4dY2T6I",
      "include_colab_link": true
    },
    "kernelspec": {
      "name": "python3",
      "display_name": "Python 3"
    },
    "language_info": {
      "name": "python"
    }
  },
  "cells": [
    {
      "cell_type": "markdown",
      "metadata": {
        "id": "view-in-github",
        "colab_type": "text"
      },
      "source": [
        "<a href=\"https://colab.research.google.com/github/mateuspa/fatec/blob/main/Pr%C3%A1tica_aula_1.ipynb\" target=\"_parent\"><img src=\"https://colab.research.google.com/assets/colab-badge.svg\" alt=\"Open In Colab\"/></a>"
      ]
    },
    {
      "cell_type": "code",
      "execution_count": 9,
      "metadata": {
        "colab": {
          "base_uri": "https://localhost:8080/"
        },
        "id": "XIlZ21Fu34zD",
        "outputId": "2af79386-475a-4d8e-8f70-4ba8512b7679"
      },
      "outputs": [
        {
          "output_type": "stream",
          "name": "stdout",
          "text": [
            "Digite o nome do funcionário: Mateus\n",
            "Digite o salario do funconario: 20000.00\n",
            "\n",
            "Nome do funcionário: Mateus\n",
            "Salário do funcionário: 20000.0\n"
          ]
        }
      ],
      "source": [
        "# Inicialização das Variáveis\n",
        "nome = str(input(\"Digite o nome do funcionário: \"))\n",
        "salario = float(input(\"Digite o salario do funconario: \"))\n",
        "\n",
        "# interface\n",
        "print(f\"\")\n",
        "print(f\"Nome do funcionário: {nome}\")\n",
        "print(f\"Salário do funcionário: {salario}\")"
      ]
    },
    {
      "cell_type": "code",
      "source": [],
      "metadata": {
        "id": "xmhHEp7w4wrs"
      },
      "execution_count": 3,
      "outputs": []
    }
  ]
}
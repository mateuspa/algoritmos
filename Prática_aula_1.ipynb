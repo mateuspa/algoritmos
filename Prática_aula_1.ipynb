{
  "nbformat": 4,
  "nbformat_minor": 0,
  "metadata": {
    "colab": {
      "provenance": [],
      "authorship_tag": "ABX9TyNHkL8TofvVUMfY7cQVwE4c",
      "include_colab_link": true
    },
    "kernelspec": {
      "name": "python3",
      "display_name": "Python 3"
    },
    "language_info": {
      "name": "python"
    }
  },
  "cells": [
    {
      "cell_type": "markdown",
      "metadata": {
        "id": "view-in-github",
        "colab_type": "text"
      },
      "source": [
        "<a href=\"https://colab.research.google.com/github/mateuspa/fatec/blob/main/Pr%C3%A1tica_aula_1.ipynb\" target=\"_parent\"><img src=\"https://colab.research.google.com/assets/colab-badge.svg\" alt=\"Open In Colab\"/></a>"
      ]
    },
    {
      "cell_type": "code",
      "execution_count": 29,
      "metadata": {
        "colab": {
          "base_uri": "https://localhost:8080/"
        },
        "id": "XIlZ21Fu34zD",
        "outputId": "e28e0798-4159-473f-cea3-5bf6f4b53bfd"
      },
      "outputs": [
        {
          "output_type": "stream",
          "name": "stdout",
          "text": [
            "Digite a valor 1: 4\n",
            "Digite a valor 2: 2\n",
            "\n",
            "Valor: 4.000\n",
            "Valor: 2.000\n",
            "Quadrado: 16.000\n",
            "Valores são múltiplos\n"
          ]
        }
      ],
      "source": [
        "# Inicialização das Variáveis\n",
        "#nome = str(input(\"Digite o nome do aluno: \"))\n",
        "valor1 = float(input(\"Digite a valor 1: \"))\n",
        "valor2 = float(input(\"Digite a valor 2: \"))\n",
        "\n",
        "\n",
        "# cálculos\n",
        "quadrado = valor1**2\n",
        "\n",
        "\n",
        "# interface\n",
        "print(f\"\")\n",
        "print(f\"Valor: {valor1:.3f}\")\n",
        "print(f\"Valor: {valor2:.3f}\")\n",
        "print(f\"Quadrado: {quadrado:.3f}\")\n",
        "if valor1%valor2==0:\n",
        "    print(f\"Valores são múltiplos\")\n",
        "else:\n",
        "    print(f\"Valores não são múltiplos\")"
      ]
    },
    {
      "cell_type": "code",
      "source": [],
      "metadata": {
        "id": "xmhHEp7w4wrs"
      },
      "execution_count": null,
      "outputs": []
    }
  ]
}